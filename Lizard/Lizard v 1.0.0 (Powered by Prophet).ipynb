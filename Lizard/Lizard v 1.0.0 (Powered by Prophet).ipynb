{
 "cells": [
  {
   "cell_type": "code",
   "execution_count": null,
   "id": "06e496e6",
   "metadata": {
    "scrolled": true
   },
   "outputs": [],
   "source": [
    "#!pip install yfinance\n",
    "#!pip install prophet\n",
    "#!pip install ipywidgets\n",
    "#!pip install plotly\n",
    "\n",
    "import yfinance as yf\n",
    "import datetime\n",
    "from prophet import Prophet\n",
    "from prophet.plot import plot_plotly, plot_components_plotly\n",
    "from datetime import datetime, timedelta"
   ]
  },
  {
   "cell_type": "code",
   "execution_count": null,
   "id": "96f6b9ae",
   "metadata": {},
   "outputs": [],
   "source": [
    "ticker = input(\"Enter ticker:\")\n",
    "data = yf.download(ticker, period = 'max',  interval = '1d')['Adj Close']\n",
    "data1 = data.reset_index()\n",
    "data2 = data1.rename(columns={\"Date\": \"ds\", \"Adj Close\": \"y\"})\n",
    "\n",
    "m = Prophet()\n",
    "m.fit(data2)\n",
    "future = m.make_future_dataframe(periods=365)\n",
    "forecast = m.predict(future)\n",
    "\n",
    "startdate = datetime.today().strftime('%Y-%m-%d')\n",
    "enddate = datetime.today() + timedelta(days = 4)\n",
    "mask = (forecast['ds'] >= startdate) & (forecast['ds'] <= enddate)\n",
    "forecast2 = forecast.loc[mask]\n",
    "forecast3 = forecast2.rename(columns={\"ds\": \"Date\", \"yhat_lower\": \"Low\", \"yhat\": \"Fit\", \"yhat_upper\": \"High\", \"trend\": \"Trend\",})\n",
    "print(forecast3[['Date','Low','Fit','High','Trend']])"
   ]
  },
  {
   "cell_type": "code",
   "execution_count": null,
   "id": "756578a5",
   "metadata": {
    "scrolled": false
   },
   "outputs": [],
   "source": [
    "plot_plotly(m,forecast)"
   ]
  },
  {
   "cell_type": "code",
   "execution_count": null,
   "id": "5f49613e",
   "metadata": {
    "scrolled": false
   },
   "outputs": [],
   "source": [
    "plot_components_plotly(m,forecast)"
   ]
  }
 ],
 "metadata": {
  "kernelspec": {
   "display_name": "Python 3 (ipykernel)",
   "language": "python",
   "name": "python3"
  },
  "language_info": {
   "codemirror_mode": {
    "name": "ipython",
    "version": 3
   },
   "file_extension": ".py",
   "mimetype": "text/x-python",
   "name": "python",
   "nbconvert_exporter": "python",
   "pygments_lexer": "ipython3",
   "version": "3.10.5"
  }
 },
 "nbformat": 4,
 "nbformat_minor": 5
}
